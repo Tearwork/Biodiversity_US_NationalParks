{
 "cells": [
  {
   "cell_type": "markdown",
   "metadata": {},
   "source": [
    "# Biodiversity across US National Parks: an overview\n",
    "\n",
    "This project purpose is to analyse two datasets, named **observations** and **species_info**, provided in a **.csv format**. \n",
    "\n",
    "Available **data refers to endangered and not endangered species observed in four US National Parks**. \n",
    "\n",
    "The goal is to *perform some data analysis* on the conservation statuses of these species and *investigate if there are any patterns or themes to the types of species that become endangered*. \n",
    "\n",
    "Let's start by importing the first libraries we are going to need:"
   ]
  },
  {
   "cell_type": "code",
   "execution_count": 1,
   "metadata": {},
   "outputs": [],
   "source": [
    "import matplotlib.pyplot as plt\n",
    "import pandas as pd\n",
    "import seaborn as sns\n",
    "import numpy as np "
   ]
  },
  {
   "cell_type": "markdown",
   "metadata": {},
   "source": [
    "Load the **observation.csv** file, get a first glance, check for duplicates and drop them, then print a sample of the dataframe:"
   ]
  },
  {
   "cell_type": "code",
   "execution_count": 2,
   "metadata": {},
   "outputs": [],
   "source": [
    "observations = pd.read_csv(\"observations.csv\")"
   ]
  },
  {
   "cell_type": "code",
   "execution_count": 3,
   "metadata": {},
   "outputs": [
    {
     "data": {
      "text/html": [
       "<div>\n",
       "<style scoped>\n",
       "    .dataframe tbody tr th:only-of-type {\n",
       "        vertical-align: middle;\n",
       "    }\n",
       "\n",
       "    .dataframe tbody tr th {\n",
       "        vertical-align: top;\n",
       "    }\n",
       "\n",
       "    .dataframe thead th {\n",
       "        text-align: right;\n",
       "    }\n",
       "</style>\n",
       "<table border=\"1\" class=\"dataframe\">\n",
       "  <thead>\n",
       "    <tr style=\"text-align: right;\">\n",
       "      <th></th>\n",
       "      <th>scientific_name</th>\n",
       "      <th>park_name</th>\n",
       "      <th>observations</th>\n",
       "    </tr>\n",
       "  </thead>\n",
       "  <tbody>\n",
       "    <tr>\n",
       "      <th>0</th>\n",
       "      <td>Vicia benghalensis</td>\n",
       "      <td>Great Smoky Mountains National Park</td>\n",
       "      <td>68</td>\n",
       "    </tr>\n",
       "    <tr>\n",
       "      <th>1</th>\n",
       "      <td>Neovison vison</td>\n",
       "      <td>Great Smoky Mountains National Park</td>\n",
       "      <td>77</td>\n",
       "    </tr>\n",
       "    <tr>\n",
       "      <th>2</th>\n",
       "      <td>Prunus subcordata</td>\n",
       "      <td>Yosemite National Park</td>\n",
       "      <td>138</td>\n",
       "    </tr>\n",
       "    <tr>\n",
       "      <th>3</th>\n",
       "      <td>Abutilon theophrasti</td>\n",
       "      <td>Bryce National Park</td>\n",
       "      <td>84</td>\n",
       "    </tr>\n",
       "    <tr>\n",
       "      <th>4</th>\n",
       "      <td>Githopsis specularioides</td>\n",
       "      <td>Great Smoky Mountains National Park</td>\n",
       "      <td>85</td>\n",
       "    </tr>\n",
       "  </tbody>\n",
       "</table>\n",
       "</div>"
      ],
      "text/plain": [
       "            scientific_name                            park_name  observations\n",
       "0        Vicia benghalensis  Great Smoky Mountains National Park            68\n",
       "1            Neovison vison  Great Smoky Mountains National Park            77\n",
       "2         Prunus subcordata               Yosemite National Park           138\n",
       "3      Abutilon theophrasti                  Bryce National Park            84\n",
       "4  Githopsis specularioides  Great Smoky Mountains National Park            85"
      ]
     },
     "execution_count": 3,
     "metadata": {},
     "output_type": "execute_result"
    }
   ],
   "source": [
    "observations.head()"
   ]
  },
  {
   "cell_type": "code",
   "execution_count": 4,
   "metadata": {},
   "outputs": [],
   "source": [
    "observations = observations.drop_duplicates().groupby([\"scientific_name\", \"park_name\"])[\"observations\"].sum().reset_index()"
   ]
  },
  {
   "cell_type": "code",
   "execution_count": 5,
   "metadata": {},
   "outputs": [
    {
     "data": {
      "text/html": [
       "<div>\n",
       "<style scoped>\n",
       "    .dataframe tbody tr th:only-of-type {\n",
       "        vertical-align: middle;\n",
       "    }\n",
       "\n",
       "    .dataframe tbody tr th {\n",
       "        vertical-align: top;\n",
       "    }\n",
       "\n",
       "    .dataframe thead th {\n",
       "        text-align: right;\n",
       "    }\n",
       "</style>\n",
       "<table border=\"1\" class=\"dataframe\">\n",
       "  <thead>\n",
       "    <tr style=\"text-align: right;\">\n",
       "      <th></th>\n",
       "      <th>scientific_name</th>\n",
       "      <th>park_name</th>\n",
       "      <th>observations</th>\n",
       "    </tr>\n",
       "  </thead>\n",
       "  <tbody>\n",
       "    <tr>\n",
       "      <th>0</th>\n",
       "      <td>Abies bifolia</td>\n",
       "      <td>Bryce National Park</td>\n",
       "      <td>109</td>\n",
       "    </tr>\n",
       "    <tr>\n",
       "      <th>1</th>\n",
       "      <td>Abies bifolia</td>\n",
       "      <td>Great Smoky Mountains National Park</td>\n",
       "      <td>72</td>\n",
       "    </tr>\n",
       "    <tr>\n",
       "      <th>2</th>\n",
       "      <td>Abies bifolia</td>\n",
       "      <td>Yellowstone National Park</td>\n",
       "      <td>215</td>\n",
       "    </tr>\n",
       "    <tr>\n",
       "      <th>3</th>\n",
       "      <td>Abies bifolia</td>\n",
       "      <td>Yosemite National Park</td>\n",
       "      <td>136</td>\n",
       "    </tr>\n",
       "    <tr>\n",
       "      <th>4</th>\n",
       "      <td>Abies concolor</td>\n",
       "      <td>Bryce National Park</td>\n",
       "      <td>83</td>\n",
       "    </tr>\n",
       "  </tbody>\n",
       "</table>\n",
       "</div>"
      ],
      "text/plain": [
       "  scientific_name                            park_name  observations\n",
       "0   Abies bifolia                  Bryce National Park           109\n",
       "1   Abies bifolia  Great Smoky Mountains National Park            72\n",
       "2   Abies bifolia            Yellowstone National Park           215\n",
       "3   Abies bifolia               Yosemite National Park           136\n",
       "4  Abies concolor                  Bryce National Park            83"
      ]
     },
     "execution_count": 5,
     "metadata": {},
     "output_type": "execute_result"
    }
   ],
   "source": [
    "observations.head()"
   ]
  },
  {
   "cell_type": "markdown",
   "metadata": {},
   "source": [
    "Do the same for the **species.csv** file:"
   ]
  },
  {
   "cell_type": "code",
   "execution_count": 6,
   "metadata": {},
   "outputs": [],
   "source": [
    "species_info = pd.read_csv(\"species_info.csv\")"
   ]
  },
  {
   "cell_type": "code",
   "execution_count": 7,
   "metadata": {},
   "outputs": [
    {
     "data": {
      "text/html": [
       "<div>\n",
       "<style scoped>\n",
       "    .dataframe tbody tr th:only-of-type {\n",
       "        vertical-align: middle;\n",
       "    }\n",
       "\n",
       "    .dataframe tbody tr th {\n",
       "        vertical-align: top;\n",
       "    }\n",
       "\n",
       "    .dataframe thead th {\n",
       "        text-align: right;\n",
       "    }\n",
       "</style>\n",
       "<table border=\"1\" class=\"dataframe\">\n",
       "  <thead>\n",
       "    <tr style=\"text-align: right;\">\n",
       "      <th></th>\n",
       "      <th>category</th>\n",
       "      <th>scientific_name</th>\n",
       "      <th>common_names</th>\n",
       "      <th>conservation_status</th>\n",
       "    </tr>\n",
       "  </thead>\n",
       "  <tbody>\n",
       "    <tr>\n",
       "      <th>0</th>\n",
       "      <td>Mammal</td>\n",
       "      <td>Clethrionomys gapperi gapperi</td>\n",
       "      <td>Gapper's Red-Backed Vole</td>\n",
       "      <td>NaN</td>\n",
       "    </tr>\n",
       "    <tr>\n",
       "      <th>1</th>\n",
       "      <td>Mammal</td>\n",
       "      <td>Bos bison</td>\n",
       "      <td>American Bison, Bison</td>\n",
       "      <td>NaN</td>\n",
       "    </tr>\n",
       "    <tr>\n",
       "      <th>2</th>\n",
       "      <td>Mammal</td>\n",
       "      <td>Bos taurus</td>\n",
       "      <td>Aurochs, Aurochs, Domestic Cattle (Feral), Dom...</td>\n",
       "      <td>NaN</td>\n",
       "    </tr>\n",
       "    <tr>\n",
       "      <th>3</th>\n",
       "      <td>Mammal</td>\n",
       "      <td>Ovis aries</td>\n",
       "      <td>Domestic Sheep, Mouflon, Red Sheep, Sheep (Feral)</td>\n",
       "      <td>NaN</td>\n",
       "    </tr>\n",
       "    <tr>\n",
       "      <th>4</th>\n",
       "      <td>Mammal</td>\n",
       "      <td>Cervus elaphus</td>\n",
       "      <td>Wapiti Or Elk</td>\n",
       "      <td>NaN</td>\n",
       "    </tr>\n",
       "  </tbody>\n",
       "</table>\n",
       "</div>"
      ],
      "text/plain": [
       "  category                scientific_name  \\\n",
       "0   Mammal  Clethrionomys gapperi gapperi   \n",
       "1   Mammal                      Bos bison   \n",
       "2   Mammal                     Bos taurus   \n",
       "3   Mammal                     Ovis aries   \n",
       "4   Mammal                 Cervus elaphus   \n",
       "\n",
       "                                        common_names conservation_status  \n",
       "0                           Gapper's Red-Backed Vole                 NaN  \n",
       "1                              American Bison, Bison                 NaN  \n",
       "2  Aurochs, Aurochs, Domestic Cattle (Feral), Dom...                 NaN  \n",
       "3  Domestic Sheep, Mouflon, Red Sheep, Sheep (Feral)                 NaN  \n",
       "4                                      Wapiti Or Elk                 NaN  "
      ]
     },
     "execution_count": 7,
     "metadata": {},
     "output_type": "execute_result"
    }
   ],
   "source": [
    "species_info.head()"
   ]
  },
  {
   "cell_type": "code",
   "execution_count": 8,
   "metadata": {},
   "outputs": [],
   "source": [
    "species_info = species_info.drop_duplicates(['scientific_name','conservation_status'])"
   ]
  },
  {
   "cell_type": "code",
   "execution_count": 9,
   "metadata": {},
   "outputs": [
    {
     "data": {
      "text/html": [
       "<div>\n",
       "<style scoped>\n",
       "    .dataframe tbody tr th:only-of-type {\n",
       "        vertical-align: middle;\n",
       "    }\n",
       "\n",
       "    .dataframe tbody tr th {\n",
       "        vertical-align: top;\n",
       "    }\n",
       "\n",
       "    .dataframe thead th {\n",
       "        text-align: right;\n",
       "    }\n",
       "</style>\n",
       "<table border=\"1\" class=\"dataframe\">\n",
       "  <thead>\n",
       "    <tr style=\"text-align: right;\">\n",
       "      <th></th>\n",
       "      <th>category</th>\n",
       "      <th>scientific_name</th>\n",
       "      <th>common_names</th>\n",
       "      <th>conservation_status</th>\n",
       "    </tr>\n",
       "  </thead>\n",
       "  <tbody>\n",
       "    <tr>\n",
       "      <th>0</th>\n",
       "      <td>Mammal</td>\n",
       "      <td>Clethrionomys gapperi gapperi</td>\n",
       "      <td>Gapper's Red-Backed Vole</td>\n",
       "      <td>NaN</td>\n",
       "    </tr>\n",
       "    <tr>\n",
       "      <th>1</th>\n",
       "      <td>Mammal</td>\n",
       "      <td>Bos bison</td>\n",
       "      <td>American Bison, Bison</td>\n",
       "      <td>NaN</td>\n",
       "    </tr>\n",
       "    <tr>\n",
       "      <th>2</th>\n",
       "      <td>Mammal</td>\n",
       "      <td>Bos taurus</td>\n",
       "      <td>Aurochs, Aurochs, Domestic Cattle (Feral), Dom...</td>\n",
       "      <td>NaN</td>\n",
       "    </tr>\n",
       "    <tr>\n",
       "      <th>3</th>\n",
       "      <td>Mammal</td>\n",
       "      <td>Ovis aries</td>\n",
       "      <td>Domestic Sheep, Mouflon, Red Sheep, Sheep (Feral)</td>\n",
       "      <td>NaN</td>\n",
       "    </tr>\n",
       "    <tr>\n",
       "      <th>4</th>\n",
       "      <td>Mammal</td>\n",
       "      <td>Cervus elaphus</td>\n",
       "      <td>Wapiti Or Elk</td>\n",
       "      <td>NaN</td>\n",
       "    </tr>\n",
       "  </tbody>\n",
       "</table>\n",
       "</div>"
      ],
      "text/plain": [
       "  category                scientific_name  \\\n",
       "0   Mammal  Clethrionomys gapperi gapperi   \n",
       "1   Mammal                      Bos bison   \n",
       "2   Mammal                     Bos taurus   \n",
       "3   Mammal                     Ovis aries   \n",
       "4   Mammal                 Cervus elaphus   \n",
       "\n",
       "                                        common_names conservation_status  \n",
       "0                           Gapper's Red-Backed Vole                 NaN  \n",
       "1                              American Bison, Bison                 NaN  \n",
       "2  Aurochs, Aurochs, Domestic Cattle (Feral), Dom...                 NaN  \n",
       "3  Domestic Sheep, Mouflon, Red Sheep, Sheep (Feral)                 NaN  \n",
       "4                                      Wapiti Or Elk                 NaN  "
      ]
     },
     "execution_count": 9,
     "metadata": {},
     "output_type": "execute_result"
    }
   ],
   "source": [
    "species_info.head()"
   ]
  },
  {
   "cell_type": "markdown",
   "metadata": {},
   "source": [
    "Since *both files have the **scientific_name** column in common*, we can **merge them** using these values:"
   ]
  },
  {
   "cell_type": "code",
   "execution_count": 10,
   "metadata": {},
   "outputs": [],
   "source": [
    "species_df = pd.merge(observations, species_info, on = \"scientific_name\").reset_index().drop(['index'], axis=1)"
   ]
  },
  {
   "cell_type": "code",
   "execution_count": 11,
   "metadata": {},
   "outputs": [
    {
     "data": {
      "text/html": [
       "<div>\n",
       "<style scoped>\n",
       "    .dataframe tbody tr th:only-of-type {\n",
       "        vertical-align: middle;\n",
       "    }\n",
       "\n",
       "    .dataframe tbody tr th {\n",
       "        vertical-align: top;\n",
       "    }\n",
       "\n",
       "    .dataframe thead th {\n",
       "        text-align: right;\n",
       "    }\n",
       "</style>\n",
       "<table border=\"1\" class=\"dataframe\">\n",
       "  <thead>\n",
       "    <tr style=\"text-align: right;\">\n",
       "      <th></th>\n",
       "      <th>scientific_name</th>\n",
       "      <th>park_name</th>\n",
       "      <th>observations</th>\n",
       "      <th>category</th>\n",
       "      <th>common_names</th>\n",
       "      <th>conservation_status</th>\n",
       "    </tr>\n",
       "  </thead>\n",
       "  <tbody>\n",
       "    <tr>\n",
       "      <th>0</th>\n",
       "      <td>Abies bifolia</td>\n",
       "      <td>Bryce National Park</td>\n",
       "      <td>109</td>\n",
       "      <td>Vascular Plant</td>\n",
       "      <td>Rocky Mountain Alpine Fir</td>\n",
       "      <td>NaN</td>\n",
       "    </tr>\n",
       "    <tr>\n",
       "      <th>1</th>\n",
       "      <td>Abies bifolia</td>\n",
       "      <td>Great Smoky Mountains National Park</td>\n",
       "      <td>72</td>\n",
       "      <td>Vascular Plant</td>\n",
       "      <td>Rocky Mountain Alpine Fir</td>\n",
       "      <td>NaN</td>\n",
       "    </tr>\n",
       "    <tr>\n",
       "      <th>2</th>\n",
       "      <td>Abies bifolia</td>\n",
       "      <td>Yellowstone National Park</td>\n",
       "      <td>215</td>\n",
       "      <td>Vascular Plant</td>\n",
       "      <td>Rocky Mountain Alpine Fir</td>\n",
       "      <td>NaN</td>\n",
       "    </tr>\n",
       "    <tr>\n",
       "      <th>3</th>\n",
       "      <td>Abies bifolia</td>\n",
       "      <td>Yosemite National Park</td>\n",
       "      <td>136</td>\n",
       "      <td>Vascular Plant</td>\n",
       "      <td>Rocky Mountain Alpine Fir</td>\n",
       "      <td>NaN</td>\n",
       "    </tr>\n",
       "    <tr>\n",
       "      <th>4</th>\n",
       "      <td>Abies concolor</td>\n",
       "      <td>Bryce National Park</td>\n",
       "      <td>83</td>\n",
       "      <td>Vascular Plant</td>\n",
       "      <td>Balsam Fir, Colorado Fir, Concolor Fir, Silver...</td>\n",
       "      <td>NaN</td>\n",
       "    </tr>\n",
       "  </tbody>\n",
       "</table>\n",
       "</div>"
      ],
      "text/plain": [
       "  scientific_name                            park_name  observations  \\\n",
       "0   Abies bifolia                  Bryce National Park           109   \n",
       "1   Abies bifolia  Great Smoky Mountains National Park            72   \n",
       "2   Abies bifolia            Yellowstone National Park           215   \n",
       "3   Abies bifolia               Yosemite National Park           136   \n",
       "4  Abies concolor                  Bryce National Park            83   \n",
       "\n",
       "         category                                       common_names  \\\n",
       "0  Vascular Plant                          Rocky Mountain Alpine Fir   \n",
       "1  Vascular Plant                          Rocky Mountain Alpine Fir   \n",
       "2  Vascular Plant                          Rocky Mountain Alpine Fir   \n",
       "3  Vascular Plant                          Rocky Mountain Alpine Fir   \n",
       "4  Vascular Plant  Balsam Fir, Colorado Fir, Concolor Fir, Silver...   \n",
       "\n",
       "  conservation_status  \n",
       "0                 NaN  \n",
       "1                 NaN  \n",
       "2                 NaN  \n",
       "3                 NaN  \n",
       "4                 NaN  "
      ]
     },
     "execution_count": 11,
     "metadata": {},
     "output_type": "execute_result"
    }
   ],
   "source": [
    "species_df.head()"
   ]
  },
  {
   "cell_type": "markdown",
   "metadata": {},
   "source": [
    "We can see that the majority of values in conservation_status are **NaN**. Let's *get some stats* about this column:"
   ]
  },
  {
   "cell_type": "code",
   "execution_count": 12,
   "metadata": {},
   "outputs": [],
   "source": [
    "percent_missing = species_df.isnull().sum() * 100 / len(species_df)"
   ]
  },
  {
   "cell_type": "code",
   "execution_count": 13,
   "metadata": {},
   "outputs": [
    {
     "name": "stdout",
     "output_type": "stream",
     "text": [
      "scientific_name         0.000000\n",
      "park_name               0.000000\n",
      "observations            0.000000\n",
      "category                0.000000\n",
      "common_names            0.000000\n",
      "conservation_status    96.752661\n",
      "dtype: float64\n"
     ]
    }
   ],
   "source": [
    "print(percent_missing)"
   ]
  },
  {
   "cell_type": "markdown",
   "metadata": {},
   "source": [
    "Since **96.56% of values are missing in this column**, let's **check for unique values** in order to **address the missingness**. Plus, we now know that there are no other missing data!"
   ]
  },
  {
   "cell_type": "code",
   "execution_count": 14,
   "metadata": {},
   "outputs": [
    {
     "name": "stdout",
     "output_type": "stream",
     "text": [
      "[nan, 'Species of Concern', 'Threatened', 'Endangered', 'In Recovery']\n"
     ]
    }
   ],
   "source": [
    "print(list(species_df[\"conservation_status\"].unique()))"
   ]
  },
  {
   "cell_type": "markdown",
   "metadata": {},
   "source": [
    "From these values we can infer that **the column actually refers to the measures adopted for endangered species**.\n",
    "\n",
    "We can then *make an educated guess* and **substitute NaN with \"No concern\"**. "
   ]
  },
  {
   "cell_type": "code",
   "execution_count": 15,
   "metadata": {},
   "outputs": [],
   "source": [
    "species_df[\"conservation_status\"] = species_df['conservation_status'].fillna('No concern')"
   ]
  },
  {
   "cell_type": "code",
   "execution_count": 16,
   "metadata": {},
   "outputs": [
    {
     "data": {
      "text/html": [
       "<div>\n",
       "<style scoped>\n",
       "    .dataframe tbody tr th:only-of-type {\n",
       "        vertical-align: middle;\n",
       "    }\n",
       "\n",
       "    .dataframe tbody tr th {\n",
       "        vertical-align: top;\n",
       "    }\n",
       "\n",
       "    .dataframe thead th {\n",
       "        text-align: right;\n",
       "    }\n",
       "</style>\n",
       "<table border=\"1\" class=\"dataframe\">\n",
       "  <thead>\n",
       "    <tr style=\"text-align: right;\">\n",
       "      <th></th>\n",
       "      <th>scientific_name</th>\n",
       "      <th>park_name</th>\n",
       "      <th>observations</th>\n",
       "      <th>category</th>\n",
       "      <th>common_names</th>\n",
       "      <th>conservation_status</th>\n",
       "    </tr>\n",
       "  </thead>\n",
       "  <tbody>\n",
       "    <tr>\n",
       "      <th>0</th>\n",
       "      <td>Abies bifolia</td>\n",
       "      <td>Bryce National Park</td>\n",
       "      <td>109</td>\n",
       "      <td>Vascular Plant</td>\n",
       "      <td>Rocky Mountain Alpine Fir</td>\n",
       "      <td>No concern</td>\n",
       "    </tr>\n",
       "    <tr>\n",
       "      <th>1</th>\n",
       "      <td>Abies bifolia</td>\n",
       "      <td>Great Smoky Mountains National Park</td>\n",
       "      <td>72</td>\n",
       "      <td>Vascular Plant</td>\n",
       "      <td>Rocky Mountain Alpine Fir</td>\n",
       "      <td>No concern</td>\n",
       "    </tr>\n",
       "    <tr>\n",
       "      <th>2</th>\n",
       "      <td>Abies bifolia</td>\n",
       "      <td>Yellowstone National Park</td>\n",
       "      <td>215</td>\n",
       "      <td>Vascular Plant</td>\n",
       "      <td>Rocky Mountain Alpine Fir</td>\n",
       "      <td>No concern</td>\n",
       "    </tr>\n",
       "    <tr>\n",
       "      <th>3</th>\n",
       "      <td>Abies bifolia</td>\n",
       "      <td>Yosemite National Park</td>\n",
       "      <td>136</td>\n",
       "      <td>Vascular Plant</td>\n",
       "      <td>Rocky Mountain Alpine Fir</td>\n",
       "      <td>No concern</td>\n",
       "    </tr>\n",
       "    <tr>\n",
       "      <th>4</th>\n",
       "      <td>Abies concolor</td>\n",
       "      <td>Bryce National Park</td>\n",
       "      <td>83</td>\n",
       "      <td>Vascular Plant</td>\n",
       "      <td>Balsam Fir, Colorado Fir, Concolor Fir, Silver...</td>\n",
       "      <td>No concern</td>\n",
       "    </tr>\n",
       "  </tbody>\n",
       "</table>\n",
       "</div>"
      ],
      "text/plain": [
       "  scientific_name                            park_name  observations  \\\n",
       "0   Abies bifolia                  Bryce National Park           109   \n",
       "1   Abies bifolia  Great Smoky Mountains National Park            72   \n",
       "2   Abies bifolia            Yellowstone National Park           215   \n",
       "3   Abies bifolia               Yosemite National Park           136   \n",
       "4  Abies concolor                  Bryce National Park            83   \n",
       "\n",
       "         category                                       common_names  \\\n",
       "0  Vascular Plant                          Rocky Mountain Alpine Fir   \n",
       "1  Vascular Plant                          Rocky Mountain Alpine Fir   \n",
       "2  Vascular Plant                          Rocky Mountain Alpine Fir   \n",
       "3  Vascular Plant                          Rocky Mountain Alpine Fir   \n",
       "4  Vascular Plant  Balsam Fir, Colorado Fir, Concolor Fir, Silver...   \n",
       "\n",
       "  conservation_status  \n",
       "0          No concern  \n",
       "1          No concern  \n",
       "2          No concern  \n",
       "3          No concern  \n",
       "4          No concern  "
      ]
     },
     "execution_count": 16,
     "metadata": {},
     "output_type": "execute_result"
    }
   ],
   "source": [
    "species_df.drop_duplicates().head()"
   ]
  },
  {
   "cell_type": "markdown",
   "metadata": {},
   "source": [
    "Let's check for duplicates in the **conservation status**, which **may vary across parks**:"
   ]
  },
  {
   "cell_type": "code",
   "execution_count": 17,
   "metadata": {},
   "outputs": [],
   "source": [
    "conservation_status = species_df[species_df.duplicated(subset=['scientific_name','park_name'], keep=False)]"
   ]
  },
  {
   "cell_type": "code",
   "execution_count": 18,
   "metadata": {},
   "outputs": [
    {
     "data": {
      "text/html": [
       "<div>\n",
       "<style scoped>\n",
       "    .dataframe tbody tr th:only-of-type {\n",
       "        vertical-align: middle;\n",
       "    }\n",
       "\n",
       "    .dataframe tbody tr th {\n",
       "        vertical-align: top;\n",
       "    }\n",
       "\n",
       "    .dataframe thead th {\n",
       "        text-align: right;\n",
       "    }\n",
       "</style>\n",
       "<table border=\"1\" class=\"dataframe\">\n",
       "  <thead>\n",
       "    <tr style=\"text-align: right;\">\n",
       "      <th></th>\n",
       "      <th>scientific_name</th>\n",
       "      <th>park_name</th>\n",
       "      <th>observations</th>\n",
       "      <th>category</th>\n",
       "      <th>common_names</th>\n",
       "      <th>conservation_status</th>\n",
       "    </tr>\n",
       "  </thead>\n",
       "  <tbody>\n",
       "    <tr>\n",
       "      <th>3216</th>\n",
       "      <td>Canis lupus</td>\n",
       "      <td>Bryce National Park</td>\n",
       "      <td>130</td>\n",
       "      <td>Mammal</td>\n",
       "      <td>Gray Wolf</td>\n",
       "      <td>Endangered</td>\n",
       "    </tr>\n",
       "    <tr>\n",
       "      <th>3217</th>\n",
       "      <td>Canis lupus</td>\n",
       "      <td>Bryce National Park</td>\n",
       "      <td>130</td>\n",
       "      <td>Mammal</td>\n",
       "      <td>Gray Wolf, Wolf</td>\n",
       "      <td>In Recovery</td>\n",
       "    </tr>\n",
       "    <tr>\n",
       "      <th>3218</th>\n",
       "      <td>Canis lupus</td>\n",
       "      <td>Great Smoky Mountains National Park</td>\n",
       "      <td>59</td>\n",
       "      <td>Mammal</td>\n",
       "      <td>Gray Wolf</td>\n",
       "      <td>Endangered</td>\n",
       "    </tr>\n",
       "    <tr>\n",
       "      <th>3219</th>\n",
       "      <td>Canis lupus</td>\n",
       "      <td>Great Smoky Mountains National Park</td>\n",
       "      <td>59</td>\n",
       "      <td>Mammal</td>\n",
       "      <td>Gray Wolf, Wolf</td>\n",
       "      <td>In Recovery</td>\n",
       "    </tr>\n",
       "    <tr>\n",
       "      <th>3220</th>\n",
       "      <td>Canis lupus</td>\n",
       "      <td>Yellowstone National Park</td>\n",
       "      <td>330</td>\n",
       "      <td>Mammal</td>\n",
       "      <td>Gray Wolf</td>\n",
       "      <td>Endangered</td>\n",
       "    </tr>\n",
       "    <tr>\n",
       "      <th>3221</th>\n",
       "      <td>Canis lupus</td>\n",
       "      <td>Yellowstone National Park</td>\n",
       "      <td>330</td>\n",
       "      <td>Mammal</td>\n",
       "      <td>Gray Wolf, Wolf</td>\n",
       "      <td>In Recovery</td>\n",
       "    </tr>\n",
       "    <tr>\n",
       "      <th>3222</th>\n",
       "      <td>Canis lupus</td>\n",
       "      <td>Yosemite National Park</td>\n",
       "      <td>196</td>\n",
       "      <td>Mammal</td>\n",
       "      <td>Gray Wolf</td>\n",
       "      <td>Endangered</td>\n",
       "    </tr>\n",
       "    <tr>\n",
       "      <th>3223</th>\n",
       "      <td>Canis lupus</td>\n",
       "      <td>Yosemite National Park</td>\n",
       "      <td>196</td>\n",
       "      <td>Mammal</td>\n",
       "      <td>Gray Wolf, Wolf</td>\n",
       "      <td>In Recovery</td>\n",
       "    </tr>\n",
       "    <tr>\n",
       "      <th>13724</th>\n",
       "      <td>Oncorhynchus mykiss</td>\n",
       "      <td>Bryce National Park</td>\n",
       "      <td>164</td>\n",
       "      <td>Fish</td>\n",
       "      <td>Rainbow Trout</td>\n",
       "      <td>No concern</td>\n",
       "    </tr>\n",
       "    <tr>\n",
       "      <th>13725</th>\n",
       "      <td>Oncorhynchus mykiss</td>\n",
       "      <td>Bryce National Park</td>\n",
       "      <td>164</td>\n",
       "      <td>Fish</td>\n",
       "      <td>Rainbow Trout</td>\n",
       "      <td>Threatened</td>\n",
       "    </tr>\n",
       "  </tbody>\n",
       "</table>\n",
       "</div>"
      ],
      "text/plain": [
       "           scientific_name                            park_name  observations  \\\n",
       "3216           Canis lupus                  Bryce National Park           130   \n",
       "3217           Canis lupus                  Bryce National Park           130   \n",
       "3218           Canis lupus  Great Smoky Mountains National Park            59   \n",
       "3219           Canis lupus  Great Smoky Mountains National Park            59   \n",
       "3220           Canis lupus            Yellowstone National Park           330   \n",
       "3221           Canis lupus            Yellowstone National Park           330   \n",
       "3222           Canis lupus               Yosemite National Park           196   \n",
       "3223           Canis lupus               Yosemite National Park           196   \n",
       "13724  Oncorhynchus mykiss                  Bryce National Park           164   \n",
       "13725  Oncorhynchus mykiss                  Bryce National Park           164   \n",
       "\n",
       "      category     common_names conservation_status  \n",
       "3216    Mammal        Gray Wolf          Endangered  \n",
       "3217    Mammal  Gray Wolf, Wolf         In Recovery  \n",
       "3218    Mammal        Gray Wolf          Endangered  \n",
       "3219    Mammal  Gray Wolf, Wolf         In Recovery  \n",
       "3220    Mammal        Gray Wolf          Endangered  \n",
       "3221    Mammal  Gray Wolf, Wolf         In Recovery  \n",
       "3222    Mammal        Gray Wolf          Endangered  \n",
       "3223    Mammal  Gray Wolf, Wolf         In Recovery  \n",
       "13724     Fish    Rainbow Trout          No concern  \n",
       "13725     Fish    Rainbow Trout          Threatened  "
      ]
     },
     "execution_count": 18,
     "metadata": {},
     "output_type": "execute_result"
    }
   ],
   "source": [
    "conservation_status.head(10)"
   ]
  },
  {
   "cell_type": "markdown",
   "metadata": {},
   "source": [
    "We can see that both Canis lupus and Oncorhynchus mykiss have multiple entries for each park. *Check for all the species which present this characteristic*:"
   ]
  },
  {
   "cell_type": "code",
   "execution_count": 19,
   "metadata": {},
   "outputs": [
    {
     "name": "stdout",
     "output_type": "stream",
     "text": [
      "['Canis lupus', 'Oncorhynchus mykiss']\n"
     ]
    }
   ],
   "source": [
    "multi_status_species = print(list(conservation_status[\"scientific_name\"].unique()))"
   ]
  },
  {
   "cell_type": "markdown",
   "metadata": {},
   "source": [
    "A brief **research** allows us to figure out that *Canis lupus is commonly listed as endangered*, and *Oncorhynchus mykiss as no risk to risky situation*. \n",
    "\n",
    "Since we have such a complex situation, **we are going for the worst case scenario** and **treat these species as endangered and threatened** respectively, changing their values and, again, dropping duplicates."
   ]
  },
  {
   "cell_type": "code",
   "execution_count": 20,
   "metadata": {},
   "outputs": [
    {
     "data": {
      "text/html": [
       "<div>\n",
       "<style scoped>\n",
       "    .dataframe tbody tr th:only-of-type {\n",
       "        vertical-align: middle;\n",
       "    }\n",
       "\n",
       "    .dataframe tbody tr th {\n",
       "        vertical-align: top;\n",
       "    }\n",
       "\n",
       "    .dataframe thead th {\n",
       "        text-align: right;\n",
       "    }\n",
       "</style>\n",
       "<table border=\"1\" class=\"dataframe\">\n",
       "  <thead>\n",
       "    <tr style=\"text-align: right;\">\n",
       "      <th></th>\n",
       "      <th>scientific_name</th>\n",
       "      <th>park_name</th>\n",
       "      <th>observations</th>\n",
       "      <th>category</th>\n",
       "      <th>common_names</th>\n",
       "      <th>conservation_status</th>\n",
       "    </tr>\n",
       "  </thead>\n",
       "  <tbody>\n",
       "    <tr>\n",
       "      <th>3216</th>\n",
       "      <td>Canis lupus</td>\n",
       "      <td>Bryce National Park</td>\n",
       "      <td>130</td>\n",
       "      <td>Mammal</td>\n",
       "      <td>Gray Wolf</td>\n",
       "      <td>Endangered</td>\n",
       "    </tr>\n",
       "    <tr>\n",
       "      <th>3217</th>\n",
       "      <td>Canis lupus</td>\n",
       "      <td>Bryce National Park</td>\n",
       "      <td>130</td>\n",
       "      <td>Mammal</td>\n",
       "      <td>Gray Wolf, Wolf</td>\n",
       "      <td>Endangered</td>\n",
       "    </tr>\n",
       "    <tr>\n",
       "      <th>3218</th>\n",
       "      <td>Canis lupus</td>\n",
       "      <td>Great Smoky Mountains National Park</td>\n",
       "      <td>59</td>\n",
       "      <td>Mammal</td>\n",
       "      <td>Gray Wolf</td>\n",
       "      <td>Endangered</td>\n",
       "    </tr>\n",
       "    <tr>\n",
       "      <th>3219</th>\n",
       "      <td>Canis lupus</td>\n",
       "      <td>Great Smoky Mountains National Park</td>\n",
       "      <td>59</td>\n",
       "      <td>Mammal</td>\n",
       "      <td>Gray Wolf, Wolf</td>\n",
       "      <td>Endangered</td>\n",
       "    </tr>\n",
       "    <tr>\n",
       "      <th>3220</th>\n",
       "      <td>Canis lupus</td>\n",
       "      <td>Yellowstone National Park</td>\n",
       "      <td>330</td>\n",
       "      <td>Mammal</td>\n",
       "      <td>Gray Wolf</td>\n",
       "      <td>Endangered</td>\n",
       "    </tr>\n",
       "    <tr>\n",
       "      <th>3221</th>\n",
       "      <td>Canis lupus</td>\n",
       "      <td>Yellowstone National Park</td>\n",
       "      <td>330</td>\n",
       "      <td>Mammal</td>\n",
       "      <td>Gray Wolf, Wolf</td>\n",
       "      <td>Endangered</td>\n",
       "    </tr>\n",
       "    <tr>\n",
       "      <th>3222</th>\n",
       "      <td>Canis lupus</td>\n",
       "      <td>Yosemite National Park</td>\n",
       "      <td>196</td>\n",
       "      <td>Mammal</td>\n",
       "      <td>Gray Wolf</td>\n",
       "      <td>Endangered</td>\n",
       "    </tr>\n",
       "    <tr>\n",
       "      <th>3223</th>\n",
       "      <td>Canis lupus</td>\n",
       "      <td>Yosemite National Park</td>\n",
       "      <td>196</td>\n",
       "      <td>Mammal</td>\n",
       "      <td>Gray Wolf, Wolf</td>\n",
       "      <td>Endangered</td>\n",
       "    </tr>\n",
       "  </tbody>\n",
       "</table>\n",
       "</div>"
      ],
      "text/plain": [
       "     scientific_name                            park_name  observations  \\\n",
       "3216     Canis lupus                  Bryce National Park           130   \n",
       "3217     Canis lupus                  Bryce National Park           130   \n",
       "3218     Canis lupus  Great Smoky Mountains National Park            59   \n",
       "3219     Canis lupus  Great Smoky Mountains National Park            59   \n",
       "3220     Canis lupus            Yellowstone National Park           330   \n",
       "3221     Canis lupus            Yellowstone National Park           330   \n",
       "3222     Canis lupus               Yosemite National Park           196   \n",
       "3223     Canis lupus               Yosemite National Park           196   \n",
       "\n",
       "     category     common_names conservation_status  \n",
       "3216   Mammal        Gray Wolf          Endangered  \n",
       "3217   Mammal  Gray Wolf, Wolf          Endangered  \n",
       "3218   Mammal        Gray Wolf          Endangered  \n",
       "3219   Mammal  Gray Wolf, Wolf          Endangered  \n",
       "3220   Mammal        Gray Wolf          Endangered  \n",
       "3221   Mammal  Gray Wolf, Wolf          Endangered  \n",
       "3222   Mammal        Gray Wolf          Endangered  \n",
       "3223   Mammal  Gray Wolf, Wolf          Endangered  "
      ]
     },
     "execution_count": 20,
     "metadata": {},
     "output_type": "execute_result"
    }
   ],
   "source": [
    "species_df[species_df.scientific_name.isin([\"Canis lupus\"])].replace(to_replace=\"In Recovery\", \n",
    "                                                                                  value=\"Endangered\")"
   ]
  },
  {
   "cell_type": "code",
   "execution_count": 21,
   "metadata": {},
   "outputs": [
    {
     "data": {
      "text/html": [
       "<div>\n",
       "<style scoped>\n",
       "    .dataframe tbody tr th:only-of-type {\n",
       "        vertical-align: middle;\n",
       "    }\n",
       "\n",
       "    .dataframe tbody tr th {\n",
       "        vertical-align: top;\n",
       "    }\n",
       "\n",
       "    .dataframe thead th {\n",
       "        text-align: right;\n",
       "    }\n",
       "</style>\n",
       "<table border=\"1\" class=\"dataframe\">\n",
       "  <thead>\n",
       "    <tr style=\"text-align: right;\">\n",
       "      <th></th>\n",
       "      <th>scientific_name</th>\n",
       "      <th>park_name</th>\n",
       "      <th>observations</th>\n",
       "      <th>category</th>\n",
       "      <th>common_names</th>\n",
       "      <th>conservation_status</th>\n",
       "    </tr>\n",
       "  </thead>\n",
       "  <tbody>\n",
       "    <tr>\n",
       "      <th>13724</th>\n",
       "      <td>Oncorhynchus mykiss</td>\n",
       "      <td>Bryce National Park</td>\n",
       "      <td>164</td>\n",
       "      <td>Fish</td>\n",
       "      <td>Rainbow Trout</td>\n",
       "      <td>Threatened</td>\n",
       "    </tr>\n",
       "    <tr>\n",
       "      <th>13725</th>\n",
       "      <td>Oncorhynchus mykiss</td>\n",
       "      <td>Bryce National Park</td>\n",
       "      <td>164</td>\n",
       "      <td>Fish</td>\n",
       "      <td>Rainbow Trout</td>\n",
       "      <td>Threatened</td>\n",
       "    </tr>\n",
       "    <tr>\n",
       "      <th>13726</th>\n",
       "      <td>Oncorhynchus mykiss</td>\n",
       "      <td>Great Smoky Mountains National Park</td>\n",
       "      <td>100</td>\n",
       "      <td>Fish</td>\n",
       "      <td>Rainbow Trout</td>\n",
       "      <td>Threatened</td>\n",
       "    </tr>\n",
       "    <tr>\n",
       "      <th>13727</th>\n",
       "      <td>Oncorhynchus mykiss</td>\n",
       "      <td>Great Smoky Mountains National Park</td>\n",
       "      <td>100</td>\n",
       "      <td>Fish</td>\n",
       "      <td>Rainbow Trout</td>\n",
       "      <td>Threatened</td>\n",
       "    </tr>\n",
       "    <tr>\n",
       "      <th>13728</th>\n",
       "      <td>Oncorhynchus mykiss</td>\n",
       "      <td>Yellowstone National Park</td>\n",
       "      <td>372</td>\n",
       "      <td>Fish</td>\n",
       "      <td>Rainbow Trout</td>\n",
       "      <td>Threatened</td>\n",
       "    </tr>\n",
       "    <tr>\n",
       "      <th>13729</th>\n",
       "      <td>Oncorhynchus mykiss</td>\n",
       "      <td>Yellowstone National Park</td>\n",
       "      <td>372</td>\n",
       "      <td>Fish</td>\n",
       "      <td>Rainbow Trout</td>\n",
       "      <td>Threatened</td>\n",
       "    </tr>\n",
       "    <tr>\n",
       "      <th>13730</th>\n",
       "      <td>Oncorhynchus mykiss</td>\n",
       "      <td>Yosemite National Park</td>\n",
       "      <td>177</td>\n",
       "      <td>Fish</td>\n",
       "      <td>Rainbow Trout</td>\n",
       "      <td>Threatened</td>\n",
       "    </tr>\n",
       "    <tr>\n",
       "      <th>13731</th>\n",
       "      <td>Oncorhynchus mykiss</td>\n",
       "      <td>Yosemite National Park</td>\n",
       "      <td>177</td>\n",
       "      <td>Fish</td>\n",
       "      <td>Rainbow Trout</td>\n",
       "      <td>Threatened</td>\n",
       "    </tr>\n",
       "  </tbody>\n",
       "</table>\n",
       "</div>"
      ],
      "text/plain": [
       "           scientific_name                            park_name  observations  \\\n",
       "13724  Oncorhynchus mykiss                  Bryce National Park           164   \n",
       "13725  Oncorhynchus mykiss                  Bryce National Park           164   \n",
       "13726  Oncorhynchus mykiss  Great Smoky Mountains National Park           100   \n",
       "13727  Oncorhynchus mykiss  Great Smoky Mountains National Park           100   \n",
       "13728  Oncorhynchus mykiss            Yellowstone National Park           372   \n",
       "13729  Oncorhynchus mykiss            Yellowstone National Park           372   \n",
       "13730  Oncorhynchus mykiss               Yosemite National Park           177   \n",
       "13731  Oncorhynchus mykiss               Yosemite National Park           177   \n",
       "\n",
       "      category   common_names conservation_status  \n",
       "13724     Fish  Rainbow Trout          Threatened  \n",
       "13725     Fish  Rainbow Trout          Threatened  \n",
       "13726     Fish  Rainbow Trout          Threatened  \n",
       "13727     Fish  Rainbow Trout          Threatened  \n",
       "13728     Fish  Rainbow Trout          Threatened  \n",
       "13729     Fish  Rainbow Trout          Threatened  \n",
       "13730     Fish  Rainbow Trout          Threatened  \n",
       "13731     Fish  Rainbow Trout          Threatened  "
      ]
     },
     "execution_count": 21,
     "metadata": {},
     "output_type": "execute_result"
    }
   ],
   "source": [
    "species_df[species_df.scientific_name.isin([\"Oncorhynchus mykiss\"])].replace(to_replace=\"No concern\", \n",
    "                                                                                  value=\"Threatened\")"
   ]
  },
  {
   "cell_type": "code",
   "execution_count": 22,
   "metadata": {},
   "outputs": [],
   "source": [
    "species_df = species_df.drop_duplicates(['scientific_name','park_name'])"
   ]
  },
  {
   "cell_type": "markdown",
   "metadata": {},
   "source": [
    "We are now going to **get some more insights** on our dataset, regarding **data types**:"
   ]
  },
  {
   "cell_type": "code",
   "execution_count": 23,
   "metadata": {},
   "outputs": [
    {
     "name": "stdout",
     "output_type": "stream",
     "text": [
      "scientific_name        object\n",
      "park_name              object\n",
      "observations            int64\n",
      "category               object\n",
      "common_names           object\n",
      "conservation_status    object\n",
      "dtype: object\n"
     ]
    }
   ],
   "source": [
    "print(species_df.dtypes)"
   ]
  },
  {
   "cell_type": "markdown",
   "metadata": {},
   "source": [
    "Since the **observation column** has numbers in it, we are going to check for the minimum value, to be sure we are not dealing with counts adding up to zero:"
   ]
  },
  {
   "cell_type": "code",
   "execution_count": 24,
   "metadata": {},
   "outputs": [
    {
     "name": "stdout",
     "output_type": "stream",
     "text": [
      "9\n"
     ]
    }
   ],
   "source": [
    "print((species_df[\"observations\"].min()))"
   ]
  },
  {
   "cell_type": "markdown",
   "metadata": {},
   "source": [
    "No missing values here, that's good news. Move on and check for the **number of unique values in each column**:"
   ]
  },
  {
   "cell_type": "code",
   "execution_count": 25,
   "metadata": {},
   "outputs": [
    {
     "name": "stdout",
     "output_type": "stream",
     "text": [
      "scientific_name 5541\n",
      "park_name 4\n",
      "observations 460\n",
      "category 7\n",
      "common_names 5229\n",
      "conservation_status 5\n"
     ]
    }
   ],
   "source": [
    "for col in species_df:\n",
    "    print(col, len(species_df[col].unique()))"
   ]
  },
  {
   "cell_type": "markdown",
   "metadata": {},
   "source": [
    "We have **four parks**, **seven classes** and **five conservation statuses**, which we already saw. \n",
    "\n",
    "Let's *print the unique values for the remaining two columns*:"
   ]
  },
  {
   "cell_type": "code",
   "execution_count": 26,
   "metadata": {},
   "outputs": [
    {
     "name": "stdout",
     "output_type": "stream",
     "text": [
      "['Bryce National Park', 'Great Smoky Mountains National Park', 'Yellowstone National Park', 'Yosemite National Park']\n"
     ]
    }
   ],
   "source": [
    "parks = list(species_df[\"park_name\"].unique())\n",
    "print(parks)"
   ]
  },
  {
   "cell_type": "code",
   "execution_count": 27,
   "metadata": {},
   "outputs": [
    {
     "name": "stdout",
     "output_type": "stream",
     "text": [
      "['Vascular Plant', 'Nonvascular Plant', 'Bird', 'Amphibian', 'Reptile', 'Mammal', 'Fish']\n"
     ]
    }
   ],
   "source": [
    "classes = list(species_df[\"category\"].unique())\n",
    "print(classes)"
   ]
  },
  {
   "cell_type": "markdown",
   "metadata": {},
   "source": [
    "No spelling errors or strange values here, we can move on.\n",
    "\n",
    "Let's **add a column** to our DataFrame, named **is_protected**, with the *value True associated with endangered, in recovery, species of concern and threatened statuses reported in the conservation_status column*. \n",
    "\n",
    "Again, print the first few rows to check if everything is working as expected:"
   ]
  },
  {
   "cell_type": "code",
   "execution_count": 28,
   "metadata": {},
   "outputs": [],
   "source": [
    "species_df['is_protected'] = species_df.conservation_status != 'No concern'"
   ]
  },
  {
   "cell_type": "code",
   "execution_count": 29,
   "metadata": {},
   "outputs": [
    {
     "data": {
      "text/html": [
       "<div>\n",
       "<style scoped>\n",
       "    .dataframe tbody tr th:only-of-type {\n",
       "        vertical-align: middle;\n",
       "    }\n",
       "\n",
       "    .dataframe tbody tr th {\n",
       "        vertical-align: top;\n",
       "    }\n",
       "\n",
       "    .dataframe thead th {\n",
       "        text-align: right;\n",
       "    }\n",
       "</style>\n",
       "<table border=\"1\" class=\"dataframe\">\n",
       "  <thead>\n",
       "    <tr style=\"text-align: right;\">\n",
       "      <th></th>\n",
       "      <th>scientific_name</th>\n",
       "      <th>park_name</th>\n",
       "      <th>observations</th>\n",
       "      <th>category</th>\n",
       "      <th>common_names</th>\n",
       "      <th>conservation_status</th>\n",
       "      <th>is_protected</th>\n",
       "    </tr>\n",
       "  </thead>\n",
       "  <tbody>\n",
       "    <tr>\n",
       "      <th>0</th>\n",
       "      <td>Abies bifolia</td>\n",
       "      <td>Bryce National Park</td>\n",
       "      <td>109</td>\n",
       "      <td>Vascular Plant</td>\n",
       "      <td>Rocky Mountain Alpine Fir</td>\n",
       "      <td>No concern</td>\n",
       "      <td>False</td>\n",
       "    </tr>\n",
       "    <tr>\n",
       "      <th>1</th>\n",
       "      <td>Abies bifolia</td>\n",
       "      <td>Great Smoky Mountains National Park</td>\n",
       "      <td>72</td>\n",
       "      <td>Vascular Plant</td>\n",
       "      <td>Rocky Mountain Alpine Fir</td>\n",
       "      <td>No concern</td>\n",
       "      <td>False</td>\n",
       "    </tr>\n",
       "    <tr>\n",
       "      <th>2</th>\n",
       "      <td>Abies bifolia</td>\n",
       "      <td>Yellowstone National Park</td>\n",
       "      <td>215</td>\n",
       "      <td>Vascular Plant</td>\n",
       "      <td>Rocky Mountain Alpine Fir</td>\n",
       "      <td>No concern</td>\n",
       "      <td>False</td>\n",
       "    </tr>\n",
       "    <tr>\n",
       "      <th>3</th>\n",
       "      <td>Abies bifolia</td>\n",
       "      <td>Yosemite National Park</td>\n",
       "      <td>136</td>\n",
       "      <td>Vascular Plant</td>\n",
       "      <td>Rocky Mountain Alpine Fir</td>\n",
       "      <td>No concern</td>\n",
       "      <td>False</td>\n",
       "    </tr>\n",
       "    <tr>\n",
       "      <th>4</th>\n",
       "      <td>Abies concolor</td>\n",
       "      <td>Bryce National Park</td>\n",
       "      <td>83</td>\n",
       "      <td>Vascular Plant</td>\n",
       "      <td>Balsam Fir, Colorado Fir, Concolor Fir, Silver...</td>\n",
       "      <td>No concern</td>\n",
       "      <td>False</td>\n",
       "    </tr>\n",
       "  </tbody>\n",
       "</table>\n",
       "</div>"
      ],
      "text/plain": [
       "  scientific_name                            park_name  observations  \\\n",
       "0   Abies bifolia                  Bryce National Park           109   \n",
       "1   Abies bifolia  Great Smoky Mountains National Park            72   \n",
       "2   Abies bifolia            Yellowstone National Park           215   \n",
       "3   Abies bifolia               Yosemite National Park           136   \n",
       "4  Abies concolor                  Bryce National Park            83   \n",
       "\n",
       "         category                                       common_names  \\\n",
       "0  Vascular Plant                          Rocky Mountain Alpine Fir   \n",
       "1  Vascular Plant                          Rocky Mountain Alpine Fir   \n",
       "2  Vascular Plant                          Rocky Mountain Alpine Fir   \n",
       "3  Vascular Plant                          Rocky Mountain Alpine Fir   \n",
       "4  Vascular Plant  Balsam Fir, Colorado Fir, Concolor Fir, Silver...   \n",
       "\n",
       "  conservation_status  is_protected  \n",
       "0          No concern         False  \n",
       "1          No concern         False  \n",
       "2          No concern         False  \n",
       "3          No concern         False  \n",
       "4          No concern         False  "
      ]
     },
     "execution_count": 29,
     "metadata": {},
     "output_type": "execute_result"
    }
   ],
   "source": [
    "species_df.head()"
   ]
  },
  {
   "cell_type": "markdown",
   "metadata": {},
   "source": [
    "Let's start with the questions!"
   ]
  },
  {
   "cell_type": "markdown",
   "metadata": {},
   "source": [
    "### Question n. 1: What is the distribution of \"conservation_status\" for animals?"
   ]
  },
  {
   "cell_type": "markdown",
   "metadata": {},
   "source": [
    "Let's **subset our data**, excluding the rows regarding plants..."
   ]
  },
  {
   "cell_type": "code",
   "execution_count": 30,
   "metadata": {},
   "outputs": [
    {
     "data": {
      "text/html": [
       "<div>\n",
       "<style scoped>\n",
       "    .dataframe tbody tr th:only-of-type {\n",
       "        vertical-align: middle;\n",
       "    }\n",
       "\n",
       "    .dataframe tbody tr th {\n",
       "        vertical-align: top;\n",
       "    }\n",
       "\n",
       "    .dataframe thead th {\n",
       "        text-align: right;\n",
       "    }\n",
       "</style>\n",
       "<table border=\"1\" class=\"dataframe\">\n",
       "  <thead>\n",
       "    <tr style=\"text-align: right;\">\n",
       "      <th></th>\n",
       "      <th>scientific_name</th>\n",
       "      <th>park_name</th>\n",
       "      <th>observations</th>\n",
       "      <th>category</th>\n",
       "      <th>common_names</th>\n",
       "      <th>conservation_status</th>\n",
       "      <th>is_protected</th>\n",
       "    </tr>\n",
       "  </thead>\n",
       "  <tbody>\n",
       "    <tr>\n",
       "      <th>40</th>\n",
       "      <td>Acanthus flammea</td>\n",
       "      <td>Bryce National Park</td>\n",
       "      <td>95</td>\n",
       "      <td>Bird</td>\n",
       "      <td>Common Redpoll, Redpoll</td>\n",
       "      <td>No concern</td>\n",
       "      <td>False</td>\n",
       "    </tr>\n",
       "    <tr>\n",
       "      <th>41</th>\n",
       "      <td>Acanthus flammea</td>\n",
       "      <td>Great Smoky Mountains National Park</td>\n",
       "      <td>68</td>\n",
       "      <td>Bird</td>\n",
       "      <td>Common Redpoll, Redpoll</td>\n",
       "      <td>No concern</td>\n",
       "      <td>False</td>\n",
       "    </tr>\n",
       "    <tr>\n",
       "      <th>42</th>\n",
       "      <td>Acanthus flammea</td>\n",
       "      <td>Yellowstone National Park</td>\n",
       "      <td>241</td>\n",
       "      <td>Bird</td>\n",
       "      <td>Common Redpoll, Redpoll</td>\n",
       "      <td>No concern</td>\n",
       "      <td>False</td>\n",
       "    </tr>\n",
       "    <tr>\n",
       "      <th>43</th>\n",
       "      <td>Acanthus flammea</td>\n",
       "      <td>Yosemite National Park</td>\n",
       "      <td>120</td>\n",
       "      <td>Bird</td>\n",
       "      <td>Common Redpoll, Redpoll</td>\n",
       "      <td>No concern</td>\n",
       "      <td>False</td>\n",
       "    </tr>\n",
       "    <tr>\n",
       "      <th>44</th>\n",
       "      <td>Accipiter cooperii</td>\n",
       "      <td>Bryce National Park</td>\n",
       "      <td>95</td>\n",
       "      <td>Bird</td>\n",
       "      <td>Cooper's Hawk</td>\n",
       "      <td>Species of Concern</td>\n",
       "      <td>True</td>\n",
       "    </tr>\n",
       "  </tbody>\n",
       "</table>\n",
       "</div>"
      ],
      "text/plain": [
       "       scientific_name                            park_name  observations  \\\n",
       "40    Acanthus flammea                  Bryce National Park            95   \n",
       "41    Acanthus flammea  Great Smoky Mountains National Park            68   \n",
       "42    Acanthus flammea            Yellowstone National Park           241   \n",
       "43    Acanthus flammea               Yosemite National Park           120   \n",
       "44  Accipiter cooperii                  Bryce National Park            95   \n",
       "\n",
       "   category             common_names conservation_status  is_protected  \n",
       "40     Bird  Common Redpoll, Redpoll          No concern         False  \n",
       "41     Bird  Common Redpoll, Redpoll          No concern         False  \n",
       "42     Bird  Common Redpoll, Redpoll          No concern         False  \n",
       "43     Bird  Common Redpoll, Redpoll          No concern         False  \n",
       "44     Bird            Cooper's Hawk  Species of Concern          True  "
      ]
     },
     "execution_count": 30,
     "metadata": {},
     "output_type": "execute_result"
    }
   ],
   "source": [
    "animals = species_df[~species_df.category.isin(['Vascular Plant', 'Nonvascular Plant'])]\n",
    "animals.head()"
   ]
  },
  {
   "cell_type": "markdown",
   "metadata": {},
   "source": [
    "... and **plot a multi-set bar chart using Python's library Seaborn**. \n",
    "\n",
    "We are first going to visualize the number of observations: "
   ]
  },
  {
   "cell_type": "code",
   "execution_count": 31,
   "metadata": {},
   "outputs": [
    {
     "data": {
      "image/png": "[encoded data removed]",
      "text/plain": [
       "<Figure size 1008x576 with 1 Axes>"
      ]
     },
     "metadata": {
      "needs_background": "light"
     },
     "output_type": "display_data"
    }
   ],
   "source": [
    "sns.set_theme(style=\"whitegrid\", palette = \"colorblind\")\n",
    "plt.figure(figsize=(14, 8))\n",
    "ax = sns.barplot(data=animals, x=\"category\", y=\"observations\", hue=\"conservation_status\", \n",
    "                 errwidth = 1.5, alpha=.85)\n",
    "ax.set_title(\"Spotted animals across US National Parks\", fontsize = 18)\n",
    "ax.set_ylabel(\"Number of Observations\", fontsize = 15)\n",
    "ax.tick_params(axis='x', labelsize=15)\n",
    "ax.set(xlabel = None)\n",
    "sns.move_legend(ax, \"upper left\", bbox_to_anchor=(1, 1), title = \"Conservation Status\", fontsize = 13, \n",
    "                title_fontsize = 15)\n",
    "plt.show()"
   ]
  },
  {
   "cell_type": "markdown",
   "metadata": {},
   "source": [
    "So far, we can tell that:\n",
    "\n",
    "- Across all parks, the majority of observed animals are species of no concern;\n",
    "\n",
    "- They are immediately followed by concerned species; \n",
    "\n",
    "- Endangered birds, amphibians, mammals and fishes have been spotted quite commonly;\n",
    "\n",
    "- Threatened amphibians, mammals and fishes have been observed multiple times. \n",
    "\n",
    "Let's take one more step, and try to **figure out to how many species we can refer these observations to**:"
   ]
  },
  {
   "cell_type": "code",
   "execution_count": 32,
   "metadata": {},
   "outputs": [],
   "source": [
    "risk_counts = animals.groupby(['category', 'conservation_status']).scientific_name.nunique().reset_index().pivot(columns='conservation_status',\n",
    "                                      index='category', values='scientific_name').fillna(0)"
   ]
  },
  {
   "cell_type": "code",
   "execution_count": 33,
   "metadata": {},
   "outputs": [],
   "source": [
    "risk_counts.columns = [\"Endangered\", \"In recovery\", \"No concern\", \"Species of Concern\", \"Threatened\"]"
   ]
  },
  {
   "cell_type": "code",
   "execution_count": 34,
   "metadata": {},
   "outputs": [
    {
     "data": {
      "text/html": [
       "<div>\n",
       "<style scoped>\n",
       "    .dataframe tbody tr th:only-of-type {\n",
       "        vertical-align: middle;\n",
       "    }\n",
       "\n",
       "    .dataframe tbody tr th {\n",
       "        vertical-align: top;\n",
       "    }\n",
       "\n",
       "    .dataframe thead th {\n",
       "        text-align: right;\n",
       "    }\n",
       "</style>\n",
       "<table border=\"1\" class=\"dataframe\">\n",
       "  <thead>\n",
       "    <tr style=\"text-align: right;\">\n",
       "      <th></th>\n",
       "      <th>Endangered</th>\n",
       "      <th>In recovery</th>\n",
       "      <th>No concern</th>\n",
       "      <th>Species of Concern</th>\n",
       "      <th>Threatened</th>\n",
       "    </tr>\n",
       "    <tr>\n",
       "      <th>category</th>\n",
       "      <th></th>\n",
       "      <th></th>\n",
       "      <th></th>\n",
       "      <th></th>\n",
       "      <th></th>\n",
       "    </tr>\n",
       "  </thead>\n",
       "  <tbody>\n",
       "    <tr>\n",
       "      <th>Amphibian</th>\n",
       "      <td>1.0</td>\n",
       "      <td>0.0</td>\n",
       "      <td>72.0</td>\n",
       "      <td>4.0</td>\n",
       "      <td>2.0</td>\n",
       "    </tr>\n",
       "    <tr>\n",
       "      <th>Bird</th>\n",
       "      <td>4.0</td>\n",
       "      <td>3.0</td>\n",
       "      <td>413.0</td>\n",
       "      <td>68.0</td>\n",
       "      <td>0.0</td>\n",
       "    </tr>\n",
       "    <tr>\n",
       "      <th>Fish</th>\n",
       "      <td>3.0</td>\n",
       "      <td>0.0</td>\n",
       "      <td>115.0</td>\n",
       "      <td>4.0</td>\n",
       "      <td>3.0</td>\n",
       "    </tr>\n",
       "    <tr>\n",
       "      <th>Mammal</th>\n",
       "      <td>6.0</td>\n",
       "      <td>0.0</td>\n",
       "      <td>146.0</td>\n",
       "      <td>22.0</td>\n",
       "      <td>2.0</td>\n",
       "    </tr>\n",
       "    <tr>\n",
       "      <th>Reptile</th>\n",
       "      <td>0.0</td>\n",
       "      <td>0.0</td>\n",
       "      <td>73.0</td>\n",
       "      <td>5.0</td>\n",
       "      <td>0.0</td>\n",
       "    </tr>\n",
       "  </tbody>\n",
       "</table>\n",
       "</div>"
      ],
      "text/plain": [
       "           Endangered  In recovery  No concern  Species of Concern  Threatened\n",
       "category                                                                      \n",
       "Amphibian         1.0          0.0        72.0                 4.0         2.0\n",
       "Bird              4.0          3.0       413.0                68.0         0.0\n",
       "Fish              3.0          0.0       115.0                 4.0         3.0\n",
       "Mammal            6.0          0.0       146.0                22.0         2.0\n",
       "Reptile           0.0          0.0        73.0                 5.0         0.0"
      ]
     },
     "execution_count": 34,
     "metadata": {},
     "output_type": "execute_result"
    }
   ],
   "source": [
    "risk_counts"
   ]
  },
  {
   "cell_type": "markdown",
   "metadata": {},
   "source": [
    "### Question n. 2: Which species were spotted the most at each park?"
   ]
  },
  {
   "cell_type": "markdown",
   "metadata": {},
   "source": [
    "To address this question, we will use **multiple bar plots**, one for each National Park, and show the **ten most commonly spotted species** (ranked highest to lowest) while characterizing our plots with **class-related colors**. "
   ]
  },
  {
   "cell_type": "code",
   "execution_count": 35,
   "metadata": {},
   "outputs": [],
   "source": [
    "def most_spotted_species():\n",
    "    for park in parks: \n",
    "        dataset = species_df[species_df.park_name.isin([park])].nlargest(10, \"observations\", keep = \"all\")\n",
    "        plt.figure(figsize=(14, 8))\n",
    "        ax = sns.barplot(data = dataset, x = \"scientific_name\", y=\"observations\", \n",
    "                         alpha=.85, hue = 'category', dodge = False)\n",
    "        ax.set_title(\"Most spotted species in \" + park, fontsize = 18)\n",
    "        ax.set_ylabel(\"Number of Observations\", fontsize = 15)\n",
    "        ax.tick_params(axis='x', labelsize=15, rotation = 90)\n",
    "        ax.set(xlabel = None)\n",
    "        sns.move_legend(ax, \"upper left\", bbox_to_anchor=(1, 1), title = \"Class\", fontsize = 13, \n",
    "                title_fontsize = 15)\n",
    "        plt.show()"
   ]
  },
  {
   "cell_type": "code",
   "execution_count": 36,
   "metadata": {},
   "outputs": [
    {
     "data": {
      "image/png": "[encoded data removed]",
      "text/plain": [
       "<Figure size 1008x576 with 1 Axes>"
      ]
     },
     "metadata": {
      "needs_background": "light"
     },
     "output_type": "display_data"
    },
    {
     "data": {
      "image/png": "[encoded data removed]",
      "text/plain": [
       "<Figure size 1008x576 with 1 Axes>"
      ]
     },
     "metadata": {
      "needs_background": "light"
     },
     "output_type": "display_data"
    },
    {
     "data": {
      "image/png": "[encoded data removed]",
      "text/plain": [
       "<Figure size 1008x576 with 1 Axes>"
      ]
     },
     "metadata": {
      "needs_background": "light"
     },
     "output_type": "display_data"
    },
    {
     "data": {
      "image/png": "[encoded data removed]",
      "text/plain": [
       "<Figure size 1008x576 with 1 Axes>"
      ]
     },
     "metadata": {
      "needs_background": "light"
     },
     "output_type": "display_data"
    }
   ],
   "source": [
    "most_spotted_species()"
   ]
  },
  {
   "cell_type": "markdown",
   "metadata": {},
   "source": [
    "Only one of these species, *Myotis Lucifufus*, a bat, is *currently ranked as species of concern*, and it's been spotted in three out of four National Parks. \n",
    "\n",
    "However, **this is only a starting point**: we could try and visualize the ten most spotted mammals, birds, reptiles, amphibians and so on."
   ]
  },
  {
   "cell_type": "markdown",
   "metadata": {},
   "source": [
    "### Questions nn. 3 and 4: Are the differences between species and their conservation status significant, and are certain types of species more likely to be endangered?"
   ]
  },
  {
   "cell_type": "markdown",
   "metadata": {},
   "source": [
    "To answer these questions we are going to use a **Pearson's Chi-Square Test of Independence** and a **Post-Hoc Test** with **multiple testing correction**.\n",
    "\n",
    "A big thank goes to Dr. Moran Neuhof for making this resource available: https://neuhofmo.github.io/chi-square-and-post-hoc-in-python/\n",
    "\n",
    "Pearson’s Chi-Square tests, often referred to simply as chi-square tests, are among the most common **nonparametric tests**. Nonparametric tests are *used for data that don’t follow the assumptions of parametric tests*, especially the assumption of a normal distribution.\n",
    "\n",
    "If you want to **test a hypothesis about the distribution of a categorical variable** you’ll need to use a chi-square test or another nonparametric test. Categorical variables can be nominal or ordinal and represent groupings such as species or nationalities. *Because they can only have a few specific values, they can’t have a normal distribution*.\n",
    "\n",
    "More about Pearson’s Chi-Square tests at: https://www.scribbr.com/statistics/chi-square-tests/"
   ]
  },
  {
   "cell_type": "markdown",
   "metadata": {},
   "source": [
    "Grouping by both category and values in is_protected, let's **count the number of species** represented under scientific_name and use these data to build a Pivot Table:"
   ]
  },
  {
   "cell_type": "code",
   "execution_count": 37,
   "metadata": {},
   "outputs": [],
   "source": [
    "category_counts = species_df.groupby(['category', 'is_protected']).scientific_name.nunique().reset_index().pivot(columns='is_protected',\n",
    "                                      index='category', values='scientific_name')"
   ]
  },
  {
   "cell_type": "code",
   "execution_count": 38,
   "metadata": {},
   "outputs": [],
   "source": [
    "category_counts.columns = ['not_protected', 'protected']"
   ]
  },
  {
   "cell_type": "code",
   "execution_count": 39,
   "metadata": {},
   "outputs": [
    {
     "data": {
      "text/html": [
       "<div>\n",
       "<style scoped>\n",
       "    .dataframe tbody tr th:only-of-type {\n",
       "        vertical-align: middle;\n",
       "    }\n",
       "\n",
       "    .dataframe tbody tr th {\n",
       "        vertical-align: top;\n",
       "    }\n",
       "\n",
       "    .dataframe thead th {\n",
       "        text-align: right;\n",
       "    }\n",
       "</style>\n",
       "<table border=\"1\" class=\"dataframe\">\n",
       "  <thead>\n",
       "    <tr style=\"text-align: right;\">\n",
       "      <th></th>\n",
       "      <th>not_protected</th>\n",
       "      <th>protected</th>\n",
       "    </tr>\n",
       "    <tr>\n",
       "      <th>category</th>\n",
       "      <th></th>\n",
       "      <th></th>\n",
       "    </tr>\n",
       "  </thead>\n",
       "  <tbody>\n",
       "    <tr>\n",
       "      <th>Amphibian</th>\n",
       "      <td>72</td>\n",
       "      <td>7</td>\n",
       "    </tr>\n",
       "    <tr>\n",
       "      <th>Bird</th>\n",
       "      <td>413</td>\n",
       "      <td>75</td>\n",
       "    </tr>\n",
       "    <tr>\n",
       "      <th>Fish</th>\n",
       "      <td>115</td>\n",
       "      <td>10</td>\n",
       "    </tr>\n",
       "    <tr>\n",
       "      <th>Mammal</th>\n",
       "      <td>146</td>\n",
       "      <td>30</td>\n",
       "    </tr>\n",
       "    <tr>\n",
       "      <th>Nonvascular Plant</th>\n",
       "      <td>328</td>\n",
       "      <td>5</td>\n",
       "    </tr>\n",
       "    <tr>\n",
       "      <th>Reptile</th>\n",
       "      <td>73</td>\n",
       "      <td>5</td>\n",
       "    </tr>\n",
       "    <tr>\n",
       "      <th>Vascular Plant</th>\n",
       "      <td>4216</td>\n",
       "      <td>46</td>\n",
       "    </tr>\n",
       "  </tbody>\n",
       "</table>\n",
       "</div>"
      ],
      "text/plain": [
       "                   not_protected  protected\n",
       "category                                   \n",
       "Amphibian                     72          7\n",
       "Bird                         413         75\n",
       "Fish                         115         10\n",
       "Mammal                       146         30\n",
       "Nonvascular Plant            328          5\n",
       "Reptile                       73          5\n",
       "Vascular Plant              4216         46"
      ]
     },
     "execution_count": 39,
     "metadata": {},
     "output_type": "execute_result"
    }
   ],
   "source": [
    "category_counts"
   ]
  },
  {
   "cell_type": "markdown",
   "metadata": {},
   "source": [
    "Above we can see our real recorder values."
   ]
  },
  {
   "cell_type": "markdown",
   "metadata": {},
   "source": [
    "What we now want to do is to compare the different groups and get a **p-value** that **tells us whether these groups are actually different than each other**."
   ]
  },
  {
   "cell_type": "code",
   "execution_count": 40,
   "metadata": {},
   "outputs": [],
   "source": [
    "from scipy.stats import chi2_contingency"
   ]
  },
  {
   "cell_type": "code",
   "execution_count": 41,
   "metadata": {},
   "outputs": [
    {
     "data": {
      "text/plain": [
       "(425.65320100839494,\n",
       " 8.505204582803473e-89,\n",
       " 6,\n",
       " array([[7.64621909e+01, 2.53780906e+00],\n",
       "        [4.72323407e+02, 1.56765927e+01],\n",
       "        [1.20984479e+02, 4.01552066e+00],\n",
       "        [1.70346147e+02, 5.65385310e+00],\n",
       "        [3.22302653e+02, 1.06973470e+01],\n",
       "        [7.54943151e+01, 2.50568489e+00],\n",
       "        [4.12508681e+03, 1.36913193e+02]]))"
      ]
     },
     "execution_count": 41,
     "metadata": {},
     "output_type": "execute_result"
    }
   ],
   "source": [
    "chi2_contingency(category_counts)"
   ]
  },
  {
   "cell_type": "markdown",
   "metadata": {},
   "source": [
    "These are our expected values:"
   ]
  },
  {
   "cell_type": "code",
   "execution_count": 42,
   "metadata": {},
   "outputs": [
    {
     "data": {
      "text/html": [
       "<div>\n",
       "<style scoped>\n",
       "    .dataframe tbody tr th:only-of-type {\n",
       "        vertical-align: middle;\n",
       "    }\n",
       "\n",
       "    .dataframe tbody tr th {\n",
       "        vertical-align: top;\n",
       "    }\n",
       "\n",
       "    .dataframe thead th {\n",
       "        text-align: right;\n",
       "    }\n",
       "</style>\n",
       "<table border=\"1\" class=\"dataframe\">\n",
       "  <thead>\n",
       "    <tr style=\"text-align: right;\">\n",
       "      <th></th>\n",
       "      <th>not_protected</th>\n",
       "      <th>protected</th>\n",
       "    </tr>\n",
       "  </thead>\n",
       "  <tbody>\n",
       "    <tr>\n",
       "      <th>Amphibian</th>\n",
       "      <td>76.46</td>\n",
       "      <td>2.54</td>\n",
       "    </tr>\n",
       "    <tr>\n",
       "      <th>Bird</th>\n",
       "      <td>472.32</td>\n",
       "      <td>15.68</td>\n",
       "    </tr>\n",
       "    <tr>\n",
       "      <th>Fish</th>\n",
       "      <td>120.98</td>\n",
       "      <td>4.02</td>\n",
       "    </tr>\n",
       "    <tr>\n",
       "      <th>Mammal</th>\n",
       "      <td>170.35</td>\n",
       "      <td>5.65</td>\n",
       "    </tr>\n",
       "    <tr>\n",
       "      <th>Nonvascular Plants</th>\n",
       "      <td>322.30</td>\n",
       "      <td>10.70</td>\n",
       "    </tr>\n",
       "    <tr>\n",
       "      <th>Reptile</th>\n",
       "      <td>75.49</td>\n",
       "      <td>2.51</td>\n",
       "    </tr>\n",
       "    <tr>\n",
       "      <th>Vascular Plants</th>\n",
       "      <td>4125.09</td>\n",
       "      <td>136.91</td>\n",
       "    </tr>\n",
       "  </tbody>\n",
       "</table>\n",
       "</div>"
      ],
      "text/plain": [
       "                    not_protected  protected\n",
       "Amphibian                   76.46       2.54\n",
       "Bird                       472.32      15.68\n",
       "Fish                       120.98       4.02\n",
       "Mammal                     170.35       5.65\n",
       "Nonvascular Plants         322.30      10.70\n",
       "Reptile                     75.49       2.51\n",
       "Vascular Plants           4125.09     136.91"
      ]
     },
     "execution_count": 42,
     "metadata": {},
     "output_type": "execute_result"
    }
   ],
   "source": [
    "df1 = chi2_contingency(category_counts)[3]\n",
    "pd.DataFrame(\n",
    "    data = df1[:,:], \n",
    "    index = [\"Amphibian\", \"Bird\", \"Fish\", \"Mammal\", \"Nonvascular Plants\", \"Reptile\", \"Vascular Plants\"],\n",
    "    columns = [\"not_protected\",\"protected\"]\n",
    ").round(2)"
   ]
  },
  {
   "cell_type": "markdown",
   "metadata": {},
   "source": [
    "In this case, the **p-value = 8.505204582803473e-89**, looks **pretty significant** and seems to point to *strong evidence against the Null Hypothesis*.\n",
    "\n",
    "- The Null Hypothesis for this test is that there is no relationship between category and conservation_status; \n",
    "- The **Alternative Hypothesis** is that *there is a relationship between category and conservation_status*.\n",
    "\n",
    "The answer to our first question, **\"Are the differences between species and their conservation status significant?\"**, is **affirmative**. \n",
    "\n",
    "In order to check the differences between each pair of groups, we will **compare every pair separately**."
   ]
  },
  {
   "cell_type": "code",
   "execution_count": 43,
   "metadata": {},
   "outputs": [],
   "source": [
    "from statsmodels.sandbox.stats.multicomp import multipletests # for multiple comparisons correction\n",
    "from itertools import combinations  # for post-hoc tests"
   ]
  },
  {
   "cell_type": "code",
   "execution_count": 44,
   "metadata": {},
   "outputs": [],
   "source": [
    "def get_asterisks_for_pval(p_val, alpha=0.05):\n",
    "    \"\"\"Receives the p-value and returns asterisks string.\"\"\"\n",
    "    if p_val > alpha:  # bigger than alpha\n",
    "        p_text = \"ns\"\n",
    "    # following the standards in biological publications\n",
    "    elif p_val < 1e-4:  \n",
    "        p_text = '****'\n",
    "    elif p_val < 1e-3:\n",
    "        p_text = '***'\n",
    "    elif p_val < 1e-2:\n",
    "        p_text = '**'\n",
    "    else:\n",
    "        p_text = '*'\n",
    "    \n",
    "    return p_text  # string of asterisks"
   ]
  },
  {
   "cell_type": "code",
   "execution_count": 45,
   "metadata": {},
   "outputs": [],
   "source": [
    "def chisq_and_posthoc_corrected():\n",
    "    \"\"\"Receives a dataframe and performs chi2 test and then post hoc.\n",
    "    Prints the p-values and corrected p-values (after FDR correction)\"\"\"\n",
    "    # start by running chi2 test on the matrix\n",
    "    chi2, p, dof, ex = chi2_contingency(category_counts, correction=True)\n",
    "    print(f\"Chi2 result of the contingency table: {chi2}, p-value: {p}\")\n",
    "    \n",
    "    # post-hoc\n",
    "    all_combinations = list(combinations(category_counts.index, 2))  # gathering all combinations for post-hoc chi2\n",
    "    p_vals = []\n",
    "    print(\"Significance results:\")\n",
    "    for comb in all_combinations:\n",
    "        new_df = category_counts[(category_counts.index == comb[0]) | (category_counts.index == comb[1])]\n",
    "        chi2, p, dof, ex = chi2_contingency(new_df, correction=True)\n",
    "        p_vals.append(p)\n",
    "        # print(f\"For {comb}: {p}\")  # uncorrected\n",
    "\n",
    "    # checking significance\n",
    "    # correction for multiple testing\n",
    "    reject_list, corrected_p_vals = multipletests(p_vals, method='fdr_bh')[:2]\n",
    "    for p_val, corr_p_val, reject, comb in zip(p_vals, corrected_p_vals, reject_list, all_combinations):\n",
    "        print(f\"{comb}: p_value: {p_val:5f}; corrected: {corr_p_val:5f} ({get_asterisks_for_pval(p_val)}) reject: {reject}\")"
   ]
  },
  {
   "cell_type": "markdown",
   "metadata": {},
   "source": [
    "However, since we have performed the test several times, we need to **correct our results for multiple comparisons**. \n",
    "\n",
    "To do this we use *statsmodels.sandbox.stats.multicomp.multipletests*: **multipletests** receives a list of p-values (as well as other optional arguments), and returns the respective list of reject decision (reject/do not reject) as well as a list of the corrected p-values.\n",
    "\n",
    "In statistics, the **multiple comparisons problem** occurs when one considers a set of statistical inferences simultaneously or infers a subset of parameters selected based on the observed values.\n",
    "\n",
    "The more inferences are made, the more likely erroneous inferences become. Several statistical techniques have been developed to address that problem, typically by requiring a stricter significance threshold for individual comparisons, so as to compensate for the number of inferences being made.\n",
    "\n",
    "More on the topic here: https://en.wikipedia.org/wiki/Multiple_comparisons_problem"
   ]
  },
  {
   "cell_type": "markdown",
   "metadata": {},
   "source": [
    "This is our final output:"
   ]
  },
  {
   "cell_type": "code",
   "execution_count": 46,
   "metadata": {},
   "outputs": [
    {
     "name": "stdout",
     "output_type": "stream",
     "text": [
      "Chi2 result of the contingency table: 425.65320100839494, p-value: 8.505204582803473e-89\n",
      "Significance results:\n",
      "('Amphibian', 'Bird'): p_value: 0.175936; corrected: 0.230916 (ns) reject: False\n",
      "('Amphibian', 'Fish'): p_value: 1.000000; corrected: 1.000000 (ns) reject: False\n",
      "('Amphibian', 'Mammal'): p_value: 0.127577; corrected: 0.178607 (ns) reject: False\n",
      "('Amphibian', 'Nonvascular Plant'): p_value: 0.001779; corrected: 0.004150 (**) reject: True\n",
      "('Amphibian', 'Reptile'): p_value: 0.781450; corrected: 0.863708 (ns) reject: False\n",
      "('Amphibian', 'Vascular Plant'): p_value: 0.000000; corrected: 0.000000 (****) reject: True\n",
      "('Bird', 'Fish'): p_value: 0.047482; corrected: 0.076702 (*) reject: False\n",
      "('Bird', 'Mammal'): p_value: 0.687595; corrected: 0.802194 (ns) reject: False\n",
      "('Bird', 'Nonvascular Plant'): p_value: 0.000000; corrected: 0.000000 (****) reject: True\n",
      "('Bird', 'Reptile'): p_value: 0.053135; corrected: 0.079703 (ns) reject: False\n",
      "('Bird', 'Vascular Plant'): p_value: 0.000000; corrected: 0.000000 (****) reject: True\n",
      "('Fish', 'Mammal'): p_value: 0.035220; corrected: 0.067122 (*) reject: False\n",
      "('Fish', 'Nonvascular Plant'): p_value: 0.001442; corrected: 0.003785 (**) reject: True\n",
      "('Fish', 'Reptile'): p_value: 0.884419; corrected: 0.928640 (ns) reject: False\n",
      "('Fish', 'Vascular Plant'): p_value: 0.000000; corrected: 0.000000 (****) reject: True\n",
      "('Mammal', 'Nonvascular Plant'): p_value: 0.000000; corrected: 0.000000 (****) reject: True\n",
      "('Mammal', 'Reptile'): p_value: 0.038356; corrected: 0.067122 (*) reject: False\n",
      "('Mammal', 'Vascular Plant'): p_value: 0.000000; corrected: 0.000000 (****) reject: True\n",
      "('Nonvascular Plant', 'Reptile'): p_value: 0.033627; corrected: 0.067122 (*) reject: False\n",
      "('Nonvascular Plant', 'Vascular Plant'): p_value: 0.662342; corrected: 0.802194 (ns) reject: False\n",
      "('Reptile', 'Vascular Plant'): p_value: 0.000145; corrected: 0.000435 (***) reject: True\n"
     ]
    }
   ],
   "source": [
    "chisq_and_posthoc_corrected()"
   ]
  },
  {
   "cell_type": "markdown",
   "metadata": {},
   "source": [
    "In order to make our data more readable, let's insert our **observed counts** for protected (real-p) species in a list:"
   ]
  },
  {
   "cell_type": "code",
   "execution_count": 47,
   "metadata": {},
   "outputs": [],
   "source": [
    "real_p = [7, 75, 10, 30, 5, 5, 46]"
   ]
  },
  {
   "cell_type": "markdown",
   "metadata": {},
   "source": [
    "Do the same for **predicted counts** (protected = pred_p):"
   ]
  },
  {
   "cell_type": "code",
   "execution_count": 48,
   "metadata": {},
   "outputs": [],
   "source": [
    "pred_p = [2.54, 15.68, 4.02, 5.65, 10.70, 2.51, 136.91]"
   ]
  },
  {
   "cell_type": "markdown",
   "metadata": {},
   "source": [
    "Make a **list of labels**, in the *same order* as the entries in the previous lists:"
   ]
  },
  {
   "cell_type": "code",
   "execution_count": 49,
   "metadata": {},
   "outputs": [],
   "source": [
    "labels = [\"Amphibian\",\"Bird\",\"Fish\",\"Mammal\", \"Nonvascular Plant\", \"Reptile\", \"Vascular Plant\"]"
   ]
  },
  {
   "cell_type": "markdown",
   "metadata": {},
   "source": [
    "Use the newly created lists to plot a **multi-set barchart**:"
   ]
  },
  {
   "cell_type": "code",
   "execution_count": 50,
   "metadata": {},
   "outputs": [
    {
     "data": {
      "image/png": "[encoded data removed]",
      "text/plain": [
       "<Figure size 1008x576 with 1 Axes>"
      ]
     },
     "metadata": {
      "needs_background": "light"
     },
     "output_type": "display_data"
    }
   ],
   "source": [
    "x = np.arange(len(labels))  # the label locations\n",
    "width = 0.35  # the width of the bars\n",
    "\n",
    "fig, ax = plt.subplots(figsize = (14, 8))\n",
    "real = ax.bar(x - width/2, real_p, width, label='real_np', alpha=.85)\n",
    "pred = ax.bar(x + width/2, pred_p, width, label='pred_np', alpha=.85)\n",
    "\n",
    "# Add some text for labels, title and custom x-axis tick labels, etc.\n",
    "ax.set_ylabel('Species\\' counts', fontsize = 15)\n",
    "ax.set_title('Difference in observed and predicted counts for Protected Species', fontsize = 18)\n",
    "ax.set_xticks(x, labels)\n",
    "ax.tick_params(axis='x', labelsize=15)\n",
    "\n",
    "l = ax.legend()\n",
    "l.get_texts()[0].set_text('Observed species\\' counts')\n",
    "l.get_texts()[1].set_text('Predicted species\\' counts')\n",
    "\n",
    "\n",
    "ax.bar_label(real, padding=3)\n",
    "ax.bar_label(pred, padding=3)\n",
    "\n",
    "plt.show()"
   ]
  },
  {
   "cell_type": "markdown",
   "metadata": {},
   "source": [
    "Going back to our p-values, we can see that, despite having a **comprehensive low p-value** (8.505204582803473e-89), which led us to **reject the Null Hypothesis** of a non-existing relationship between species and conservation status, **a more accurate analysis can't confirm this call when looking at animals only**. \n",
    "\n",
    "Instead, **when we look at the number of protected animal and plant species, we can conclude that there is a significant statistical difference between these two macro-categories**:\n",
    "\n",
    "- ('Amphibian', 'Nonvascular Plant'): p_value: 0.001779; corrected: 0.004150 (**) reject: True\n",
    "- ('Amphibian', 'Vascular Plant'): p_value: 0.000000; corrected: 0.000000 (****) reject: True\n",
    "- ('Bird', 'Nonvascular Plant'): p_value: 0.000000; corrected: 0.000000 (****) reject: True\n",
    "- ('Bird', 'Vascular Plant'): p_value: 0.000000; corrected: 0.000000 (****) reject: True\n",
    "- ('Fish', 'Nonvascular Plant'): p_value: 0.001442; corrected: 0.003785 (**) reject: True\n",
    "- ('Fish', 'Vascular Plant'): p_value: 0.000000; corrected: 0.000000 (****) reject: True\n",
    "- ('Mammal', 'Nonvascular Plant'): p_value: 0.000000; corrected: 0.000000 (****) reject: True\n",
    "- ('Mammal', 'Vascular Plant'): p_value: 0.000000; corrected: 0.000000 (****) reject: True\n",
    "- ('Reptile', 'Vascular Plant'): p_value: 0.000145; corrected: 0.000435 (***) reject: True\n",
    "\n",
    "With the only *exception of the couple 'Nonvascular Plant' and 'Reptile' (p_value: 0.033627; corrected: 0.067122, reject: False)*, **animals have, on average, a higher chance of being endangered when compared to plants**, and this answer our second question. \n"
   ]
  }
 ],
 "metadata": {
  "kernelspec": {
   "display_name": "Python 3",
   "language": "python",
   "name": "python3"
  },
  "language_info": {
   "codemirror_mode": {
    "name": "ipython",
    "version": 3
   },
   "file_extension": ".py",
   "mimetype": "text/x-python",
   "name": "python",
   "nbconvert_exporter": "python",
   "pygments_lexer": "ipython3",
   "version": "3.8.5"
  }
 },
 "nbformat": 4,
 "nbformat_minor": 4
}
